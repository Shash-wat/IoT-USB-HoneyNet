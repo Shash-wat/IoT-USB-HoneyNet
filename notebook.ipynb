{
 "cells": [
  {
   "cell_type": "code",
   "execution_count": 1,
   "id": "867477fb",
   "metadata": {},
   "outputs": [],
   "source": [
    "import pandas as pd\n",
    "from sklearn.model_selection import train_test_split\n",
    "from sklearn.ensemble import RandomForestClassifier\n",
    "from sklearn.metrics import accuracy_score\n",
    "import joblib\n",
    "import os"
   ]
  },
  {
   "cell_type": "code",
   "execution_count": 6,
   "id": "be1ce4dc",
   "metadata": {},
   "outputs": [],
   "source": [
    "script_dir = os.getcwd() \n",
    "csv_path = os.path.join(script_dir, 'data', 'dataset.csv')"
   ]
  },
  {
   "cell_type": "code",
   "execution_count": 8,
   "id": "9c723414",
   "metadata": {},
   "outputs": [
    {
     "name": "stdout",
     "output_type": "stream",
     "text": [
      "Dataset loaded successfully from c:\\Users\\shash\\OneDrive\\Downloads\\GitHub\\IoT-USB-HoneyNet\\data\\dataset.csv. Shape: (43876, 102)\n"
     ]
    }
   ],
   "source": [
    "# Load Dataset\n",
    "try:\n",
    "    df = pd.read_csv(csv_path)\n",
    "    print(f\"Dataset loaded successfully from {csv_path}. Shape: {df.shape}\")\n",
    "except FileNotFoundError:\n",
    "    print(f\"Error: Dataset not found at {csv_path}\")\n",
    "    print(\"Please ensure 'dynamic_api_calls.csv' is in the same directory as this script.\")\n",
    "    exit()"
   ]
  },
  {
   "cell_type": "code",
   "execution_count": 9,
   "id": "254bafd2",
   "metadata": {},
   "outputs": [
    {
     "name": "stdout",
     "output_type": "stream",
     "text": [
      "Features shape: (43876, 100), Labels shape: (43876,)\n"
     ]
    }
   ],
   "source": [
    "# Prepare Data\n",
    "columns_to_drop = [] \n",
    "if 'hash' in df.columns:\n",
    "    columns_to_drop.append('hash')\n",
    "if 'malware' in df.columns:\n",
    "    columns_to_drop.append('malware')\n",
    "else: \n",
    "    print(\"Error: 'malware' column not found in dataset.\")\n",
    "    exit()\n",
    "\n",
    "X = df.drop(columns=columns_to_drop, axis=1)\n",
    "y = df['malware']\n",
    "print(f\"Features shape: {X.shape}, Labels shape: {y.shape}\")"
   ]
  },
  {
   "cell_type": "code",
   "execution_count": 10,
   "id": "022e36c7",
   "metadata": {},
   "outputs": [
    {
     "name": "stdout",
     "output_type": "stream",
     "text": [
      "Training set shape: 35100, Test set shape: 8776\n",
      "Data Preparation Completed.\n"
     ]
    }
   ],
   "source": [
    "# Train-Test Split\n",
    "X_train, X_test, y_train, y_test = train_test_split(X, y, test_size=0.2, random_state=42, stratify=y)\n",
    "print(f\"Training set shape: {X_train.shape[0]}, Test set shape: {X_test.shape[0]}\")\n",
    "print(\"Data Preparation Completed.\")"
   ]
  },
  {
   "cell_type": "code",
   "execution_count": 11,
   "id": "568de171",
   "metadata": {},
   "outputs": [
    {
     "name": "stdout",
     "output_type": "stream",
     "text": [
      "Model training completed.\n"
     ]
    }
   ],
   "source": [
    "# Train Model\n",
    "model = RandomForestClassifier(n_estimators=100,\n",
    "                               random_state=42,\n",
    "                               n_jobs=-1,\n",
    "                               class_weight='balanced')\n",
    "model.fit(X_train, y_train)\n",
    "print(\"Model training completed.\")"
   ]
  },
  {
   "cell_type": "code",
   "execution_count": 12,
   "id": "68982524",
   "metadata": {},
   "outputs": [
    {
     "name": "stdout",
     "output_type": "stream",
     "text": [
      "Model saved successfully as usb_honeypot_model.pkl\n"
     ]
    }
   ],
   "source": [
    "model_filename = 'usb_honeypot_model.pkl'\n",
    "model_path = os.path.join(script_dir, model_filename)\n",
    "joblib.dump(model, model_path)\n",
    "print(f\"Model saved successfully as {model_filename}\")"
   ]
  },
  {
   "cell_type": "code",
   "execution_count": 13,
   "id": "a34c7d3d",
   "metadata": {},
   "outputs": [
    {
     "name": "stdout",
     "output_type": "stream",
     "text": [
      "Evaluating model on the test set...\n",
      "Model Accuracy on Test Set: 98.59%\n"
     ]
    }
   ],
   "source": [
    "print(\"Evaluating model on the test set...\")\n",
    "predictions = model.predict(X_test)\n",
    "accuracy = accuracy_score(y_test, predictions)\n",
    "print(f\"Model Accuracy on Test Set: {accuracy * 100:.2f}%\")\n"
   ]
  }
 ],
 "metadata": {
  "kernelspec": {
   "display_name": "Python 3",
   "language": "python",
   "name": "python3"
  },
  "language_info": {
   "codemirror_mode": {
    "name": "ipython",
    "version": 3
   },
   "file_extension": ".py",
   "mimetype": "text/x-python",
   "name": "python",
   "nbconvert_exporter": "python",
   "pygments_lexer": "ipython3",
   "version": "3.10.7"
  }
 },
 "nbformat": 4,
 "nbformat_minor": 5
}
